{
  "cells": [
    {
      "cell_type": "markdown",
      "metadata": {
        "id": "view-in-github",
        "colab_type": "text"
      },
      "source": [
        "<a href=\"https://colab.research.google.com/github/minhnhat232k/Bigdata/blob/main/Assignment2_Bigdata_q4_new.ipynb\" target=\"_parent\"><img src=\"https://colab.research.google.com/assets/colab-badge.svg\" alt=\"Open In Colab\"/></a>"
      ]
    },
    {
      "cell_type": "code",
      "execution_count": 1,
      "metadata": {
        "colab": {
          "base_uri": "https://localhost:8080/"
        },
        "id": "8xGtPNaOZl5t",
        "outputId": "6910bf7c-0b03-49fc-8733-61b4de133ebb"
      },
      "outputs": [
        {
          "output_type": "stream",
          "name": "stdout",
          "text": [
            "Collecting pyspark==3.0.1\n",
            "  Downloading pyspark-3.0.1.tar.gz (204.2 MB)\n",
            "\u001b[2K     \u001b[90m━━━━━━━━━━━━━━━━━━━━━━━━━━━━━━━━━━━━━━━\u001b[0m \u001b[32m204.2/204.2 MB\u001b[0m \u001b[31m2.8 MB/s\u001b[0m eta \u001b[36m0:00:00\u001b[0m\n",
            "\u001b[?25h  Preparing metadata (setup.py) ... \u001b[?25l\u001b[?25hdone\n",
            "Collecting py4j==0.10.9 (from pyspark==3.0.1)\n",
            "  Downloading py4j-0.10.9-py2.py3-none-any.whl (198 kB)\n",
            "\u001b[2K     \u001b[90m━━━━━━━━━━━━━━━━━━━━━━━━━━━━━━━━━━━━━━━\u001b[0m \u001b[32m198.6/198.6 kB\u001b[0m \u001b[31m8.4 MB/s\u001b[0m eta \u001b[36m0:00:00\u001b[0m\n",
            "\u001b[?25hBuilding wheels for collected packages: pyspark\n",
            "  Building wheel for pyspark (setup.py) ... \u001b[?25l\u001b[?25hdone\n",
            "  Created wheel for pyspark: filename=pyspark-3.0.1-py2.py3-none-any.whl size=204612226 sha256=7679417e0278e8dd0962f15aaa7f196020a294607d8628f6832bb01a6abc496b\n",
            "  Stored in directory: /root/.cache/pip/wheels/19/b0/c8/6cb894117070e130fc44352c2a13f15b6c27e440d04a84fb48\n",
            "Successfully built pyspark\n",
            "Installing collected packages: py4j, pyspark\n",
            "  Attempting uninstall: py4j\n",
            "    Found existing installation: py4j 0.10.9.7\n",
            "    Uninstalling py4j-0.10.9.7:\n",
            "      Successfully uninstalled py4j-0.10.9.7\n",
            "Successfully installed py4j-0.10.9 pyspark-3.0.1\n"
          ]
        }
      ],
      "source": [
        "!pip install pyspark==3.0.1"
      ]
    },
    {
      "cell_type": "code",
      "execution_count": 2,
      "metadata": {
        "id": "smJIM3vHZZT6"
      },
      "outputs": [],
      "source": [
        "import pyspark\n",
        "from pyspark.sql import SparkSession\n",
        "from pyspark.sql import functions as f\n",
        "from pyspark.sql.types import IntegerType,BooleanType,DateType"
      ]
    },
    {
      "cell_type": "code",
      "execution_count": 3,
      "metadata": {
        "colab": {
          "base_uri": "https://localhost:8080/"
        },
        "id": "vENjXKxMZhFE",
        "outputId": "b4a65da2-99ab-49e6-a737-c1ffc404e408"
      },
      "outputs": [
        {
          "output_type": "stream",
          "name": "stdout",
          "text": [
            "Mounted at /content/gdrive\n"
          ]
        }
      ],
      "source": [
        "from google.colab import drive\n",
        "drive.mount('/content/gdrive')\n",
        "spark = SparkSession.builder.getOrCreate()\n",
        "ratingsDF = spark.read.options(header='True', inferSchema='True', delimiter=',').csv(\"/content/gdrive/MyDrive/Bigdata-Pyspark-Dataset/Assignment2/ratings_small.csv\")\n",
        "moviesDF = spark.read.options(header='True', inferSchema='True', delimiter=',').csv(\"/content/gdrive/MyDrive/Bigdata-Pyspark-Dataset/Assignment2/movies_small.csv\")"
      ]
    },
    {
      "cell_type": "code",
      "source": [
        "ratingsDF.show(5)\n",
        "moviesDF.show(5)"
      ],
      "metadata": {
        "colab": {
          "base_uri": "https://localhost:8080/"
        },
        "id": "3NNPSImHlUm4",
        "outputId": "12badaea-ae00-4016-cd45-b2557b2f454d"
      },
      "execution_count": 4,
      "outputs": [
        {
          "output_type": "stream",
          "name": "stdout",
          "text": [
            "+------+-------+------+---------+\n",
            "|userId|movieId|rating|timestamp|\n",
            "+------+-------+------+---------+\n",
            "|     1|      1|   4.0|964982703|\n",
            "|     1|      3|   4.0|964981247|\n",
            "|     1|      6|   4.0|964982224|\n",
            "|     1|     47|   5.0|964983815|\n",
            "|     1|     50|   5.0|964982931|\n",
            "+------+-------+------+---------+\n",
            "only showing top 5 rows\n",
            "\n",
            "+-------+--------------------+--------------------+\n",
            "|movieId|               title|              genres|\n",
            "+-------+--------------------+--------------------+\n",
            "|      1|    Toy Story (1995)|Adventure|Animati...|\n",
            "|      2|      Jumanji (1995)|Adventure|Childre...|\n",
            "|      3|Grumpier Old Men ...|      Comedy|Romance|\n",
            "|      4|Waiting to Exhale...|Comedy|Drama|Romance|\n",
            "|      5|Father of the Bri...|              Comedy|\n",
            "+-------+--------------------+--------------------+\n",
            "only showing top 5 rows\n",
            "\n"
          ]
        }
      ]
    },
    {
      "cell_type": "code",
      "source": [
        "moviesDF = moviesDF.withColumn(\"Year\", f.col(\"title\").substr(-6, 6))\n",
        "moviesDF = moviesDF.withColumn(\"Year\", f.regexp_replace(f.col(\"Year\"), r\"\\(|\\)\", \"\"))\n",
        "moviesDF.show()"
      ],
      "metadata": {
        "colab": {
          "base_uri": "https://localhost:8080/"
        },
        "id": "4b9ubHYklYhw",
        "outputId": "bd8bcc3a-6d29-4e35-d359-1843bdc48e61"
      },
      "execution_count": 5,
      "outputs": [
        {
          "output_type": "stream",
          "name": "stdout",
          "text": [
            "+-------+--------------------+--------------------+----+\n",
            "|movieId|               title|              genres|Year|\n",
            "+-------+--------------------+--------------------+----+\n",
            "|      1|    Toy Story (1995)|Adventure|Animati...|1995|\n",
            "|      2|      Jumanji (1995)|Adventure|Childre...|1995|\n",
            "|      3|Grumpier Old Men ...|      Comedy|Romance|1995|\n",
            "|      4|Waiting to Exhale...|Comedy|Drama|Romance|1995|\n",
            "|      5|Father of the Bri...|              Comedy|1995|\n",
            "|      6|         Heat (1995)|Action|Crime|Thri...|1995|\n",
            "|      7|      Sabrina (1995)|      Comedy|Romance|1995|\n",
            "|      8| Tom and Huck (1995)|  Adventure|Children|1995|\n",
            "|      9| Sudden Death (1995)|              Action|1995|\n",
            "|     10|    GoldenEye (1995)|Action|Adventure|...|1995|\n",
            "|     11|American Presiden...|Comedy|Drama|Romance|1995|\n",
            "|     12|Dracula: Dead and...|       Comedy|Horror|1995|\n",
            "|     13|        Balto (1995)|Adventure|Animati...|1995|\n",
            "|     14|        Nixon (1995)|               Drama|1995|\n",
            "|     15|Cutthroat Island ...|Action|Adventure|...|1995|\n",
            "|     16|       Casino (1995)|         Crime|Drama|1995|\n",
            "|     17|Sense and Sensibi...|       Drama|Romance|1995|\n",
            "|     18|   Four Rooms (1995)|              Comedy|1995|\n",
            "|     19|Ace Ventura: When...|              Comedy|1995|\n",
            "|     20|  Money Train (1995)|Action|Comedy|Cri...|1995|\n",
            "+-------+--------------------+--------------------+----+\n",
            "only showing top 20 rows\n",
            "\n"
          ]
        }
      ]
    },
    {
      "cell_type": "code",
      "source": [
        "ratingsDFLeftJoin = ratingsDF.join(moviesDF, on=[\"movieId\"], how=\"Left\")"
      ],
      "metadata": {
        "id": "3-R3ZaBWlgCA"
      },
      "execution_count": 6,
      "outputs": []
    },
    {
      "cell_type": "code",
      "source": [
        "ratingsDFLeftJoin.sort(\"movieId\").show()"
      ],
      "metadata": {
        "colab": {
          "base_uri": "https://localhost:8080/"
        },
        "id": "oDc9luo9mKj-",
        "outputId": "8c979392-e792-4fd4-9d9e-26521512e84e"
      },
      "execution_count": 8,
      "outputs": [
        {
          "output_type": "stream",
          "name": "stdout",
          "text": [
            "+-------+------+------+----------+----------------+--------------------+----+\n",
            "|movieId|userId|rating| timestamp|           title|              genres|Year|\n",
            "+-------+------+------+----------+----------------+--------------------+----+\n",
            "|      1|    57|   5.0| 965796031|Toy Story (1995)|Adventure|Animati...|1995|\n",
            "|      1|   119|   3.5|1435942468|Toy Story (1995)|Adventure|Animati...|1995|\n",
            "|      1|    63|   5.0|1443199669|Toy Story (1995)|Adventure|Animati...|1995|\n",
            "|      1|    54|   3.0| 830247330|Toy Story (1995)|Adventure|Animati...|1995|\n",
            "|      1|    64|   4.0|1161520134|Toy Story (1995)|Adventure|Animati...|1995|\n",
            "|      1|     7|   4.5|1106635946|Toy Story (1995)|Adventure|Animati...|1995|\n",
            "|      1|    66|   4.0|1104643957|Toy Story (1995)|Adventure|Animati...|1995|\n",
            "|      1|    17|   4.5|1305696483|Toy Story (1995)|Adventure|Animati...|1995|\n",
            "|      1|    68|   2.5|1158531426|Toy Story (1995)|Adventure|Animati...|1995|\n",
            "|      1|    19|   4.0| 965705637|Toy Story (1995)|Adventure|Animati...|1995|\n",
            "|      1|    71|   5.0| 864737933|Toy Story (1995)|Adventure|Animati...|1995|\n",
            "|      1|     5|   4.0| 847434962|Toy Story (1995)|Adventure|Animati...|1995|\n",
            "|      1|    73|   4.5|1464196374|Toy Story (1995)|Adventure|Animati...|1995|\n",
            "|      1|    32|   3.0| 856736119|Toy Story (1995)|Adventure|Animati...|1995|\n",
            "|      1|    76|   0.5|1439165548|Toy Story (1995)|Adventure|Animati...|1995|\n",
            "|      1|    40|   5.0| 832058959|Toy Story (1995)|Adventure|Animati...|1995|\n",
            "|      1|    78|   4.0|1252575124|Toy Story (1995)|Adventure|Animati...|1995|\n",
            "|      1|    44|   3.0| 869251860|Toy Story (1995)|Adventure|Animati...|1995|\n",
            "|      1|    82|   2.5|1084467729|Toy Story (1995)|Adventure|Animati...|1995|\n",
            "|      1|    46|   5.0| 834787906|Toy Story (1995)|Adventure|Animati...|1995|\n",
            "+-------+------+------+----------+----------------+--------------------+----+\n",
            "only showing top 20 rows\n",
            "\n"
          ]
        }
      ]
    },
    {
      "cell_type": "code",
      "source": [
        "ratingsDFResult = ratingsDFLeftJoin.groupBy(\"movieId\").agg(f.count(\"rating\"))\n",
        "ratingsDFResult.show(5)"
      ],
      "metadata": {
        "colab": {
          "base_uri": "https://localhost:8080/"
        },
        "id": "I2L7aNJXmMEy",
        "outputId": "598dbfd7-c3f5-4ff8-b075-15038f2884a1"
      },
      "execution_count": 38,
      "outputs": [
        {
          "output_type": "stream",
          "name": "stdout",
          "text": [
            "+-------+-------------+\n",
            "|movieId|count(rating)|\n",
            "+-------+-------------+\n",
            "|   1580|          165|\n",
            "|   2366|           25|\n",
            "|   3175|           75|\n",
            "|   1088|           42|\n",
            "|  32460|            4|\n",
            "+-------+-------------+\n",
            "only showing top 5 rows\n",
            "\n"
          ]
        }
      ]
    },
    {
      "cell_type": "code",
      "source": [
        "ratingsDFResultAvgRating = ratingsDFLeftJoin.groupBy(\"movieId\").agg(f.avg(\"rating\"))\n",
        "ratingsDFResultAvgRating.show(5)"
      ],
      "metadata": {
        "colab": {
          "base_uri": "https://localhost:8080/"
        },
        "id": "mXyt2Kk2o4bu",
        "outputId": "a9bbefe7-0f1b-499c-f957-9cf453b16f92"
      },
      "execution_count": 39,
      "outputs": [
        {
          "output_type": "stream",
          "name": "stdout",
          "text": [
            "+-------+-----------------+\n",
            "|movieId|      avg(rating)|\n",
            "+-------+-----------------+\n",
            "|   1580|3.487878787878788|\n",
            "|   2366|             3.64|\n",
            "|   3175|             3.58|\n",
            "|   1088|3.369047619047619|\n",
            "|  32460|             4.25|\n",
            "+-------+-----------------+\n",
            "only showing top 5 rows\n",
            "\n"
          ]
        }
      ]
    },
    {
      "cell_type": "code",
      "source": [
        "q4Result = ratingsDFResult.join(ratingsDFResultAvgRating, on=[\"movieId\"], how=\"inner\")\n",
        "q4Result.show(5)"
      ],
      "metadata": {
        "colab": {
          "base_uri": "https://localhost:8080/"
        },
        "id": "Bcx14qZ7mmqS",
        "outputId": "44ea2b6d-b9f9-4af6-ea9f-7c90806e925e"
      },
      "execution_count": 42,
      "outputs": [
        {
          "output_type": "stream",
          "name": "stdout",
          "text": [
            "+-------+-------------+-----------------+\n",
            "|movieId|count(rating)|      avg(rating)|\n",
            "+-------+-------------+-----------------+\n",
            "|    148|            1|              5.0|\n",
            "|    471|           40|             3.55|\n",
            "|    496|            1|              5.0|\n",
            "|    833|            6|              2.0|\n",
            "|   1088|           42|3.369047619047619|\n",
            "+-------+-------------+-----------------+\n",
            "only showing top 5 rows\n",
            "\n"
          ]
        }
      ]
    },
    {
      "cell_type": "code",
      "source": [
        "q4Result = q4Result.join(moviesDF, on=[\"movieId\"], how=\"left\")\n",
        "q4Result.show(20)"
      ],
      "metadata": {
        "colab": {
          "base_uri": "https://localhost:8080/"
        },
        "id": "Q7k6YM2yqaDR",
        "outputId": "a6da50d2-c453-47c8-cd94-cfe7b0548a2d"
      },
      "execution_count": 43,
      "outputs": [
        {
          "output_type": "stream",
          "name": "stdout",
          "text": [
            "+-------+-------------+------------------+--------------------+--------------------+----+\n",
            "|movieId|count(rating)|       avg(rating)|               title|              genres|Year|\n",
            "+-------+-------------+------------------+--------------------+--------------------+----+\n",
            "|    148|            1|               5.0|Awfully Big Adven...|               Drama|1995|\n",
            "|    471|           40|              3.55|Hudsucker Proxy, ...|              Comedy|1994|\n",
            "|    496|            1|               5.0|What Happened Was...|Comedy|Drama|Roma...|1994|\n",
            "|    833|            6|               2.0|High School High ...|              Comedy|1996|\n",
            "|   1088|           42| 3.369047619047619|Dirty Dancing (1987)|Drama|Musical|Rom...|1987|\n",
            "|   1238|            9| 4.055555555555555|   Local Hero (1983)|              Comedy|1983|\n",
            "|   1342|           11|               2.5|     Candyman (1992)|     Horror|Thriller|1992|\n",
            "|   1580|          165| 3.487878787878788|Men in Black (a.k...|Action|Comedy|Sci-Fi|1997|\n",
            "|   1591|           26|2.6346153846153846|        Spawn (1997)|Action|Adventure|...|1997|\n",
            "|   1645|           51| 3.411764705882353|The Devil's Advoc...|Drama|Mystery|Thr...|1997|\n",
            "|   1829|            2|              3.25|  Chinese Box (1997)|       Drama|Romance|1997|\n",
            "|   1959|           15|3.6666666666666665|Out of Africa (1985)|       Drama|Romance|1985|\n",
            "|   2122|           11|2.4545454545454546|Children of the C...|     Horror|Thriller|1984|\n",
            "|   2142|           10|               2.7|American Tail: Fi...|Adventure|Animati...|1991|\n",
            "|   2366|           25|              3.64|    King Kong (1933)|Action|Adventure|...|1933|\n",
            "|   2659|            1|               2.0|It Came from Holl...|  Comedy|Documentary|1982|\n",
            "|   2866|            5|               3.6|Buddy Holly Story...|               Drama|1978|\n",
            "|   3175|           75|              3.58| Galaxy Quest (1999)|Adventure|Comedy|...|1999|\n",
            "|   3794|            2|               2.5| Chuck & Buck (2000)|        Comedy|Drama|2000|\n",
            "|   3918|            9|3.2777777777777777|Hellbound: Hellra...|              Horror|1988|\n",
            "+-------+-------------+------------------+--------------------+--------------------+----+\n",
            "only showing top 20 rows\n",
            "\n"
          ]
        }
      ]
    },
    {
      "cell_type": "code",
      "source": [
        "q4Result = q4Result.select(\"Year\", \"title\", \"count(rating)\", \"avg(rating)\")"
      ],
      "metadata": {
        "id": "y6usThN7qmk4"
      },
      "execution_count": 44,
      "outputs": []
    },
    {
      "cell_type": "code",
      "source": [
        "q4Result.show(20)"
      ],
      "metadata": {
        "colab": {
          "base_uri": "https://localhost:8080/"
        },
        "id": "sqbWIhmjq6zB",
        "outputId": "0ff04299-9beb-47a2-c6df-a6cb159affb3"
      },
      "execution_count": 45,
      "outputs": [
        {
          "output_type": "stream",
          "name": "stdout",
          "text": [
            "+----+--------------------+-------------+------------------+\n",
            "|Year|               title|count(rating)|       avg(rating)|\n",
            "+----+--------------------+-------------+------------------+\n",
            "|1995|Awfully Big Adven...|            1|               5.0|\n",
            "|1994|Hudsucker Proxy, ...|           40|              3.55|\n",
            "|1994|What Happened Was...|            1|               5.0|\n",
            "|1996|High School High ...|            6|               2.0|\n",
            "|1987|Dirty Dancing (1987)|           42| 3.369047619047619|\n",
            "|1983|   Local Hero (1983)|            9| 4.055555555555555|\n",
            "|1992|     Candyman (1992)|           11|               2.5|\n",
            "|1997|Men in Black (a.k...|          165| 3.487878787878788|\n",
            "|1997|        Spawn (1997)|           26|2.6346153846153846|\n",
            "|1997|The Devil's Advoc...|           51| 3.411764705882353|\n",
            "|1997|  Chinese Box (1997)|            2|              3.25|\n",
            "|1985|Out of Africa (1985)|           15|3.6666666666666665|\n",
            "|1984|Children of the C...|           11|2.4545454545454546|\n",
            "|1991|American Tail: Fi...|           10|               2.7|\n",
            "|1933|    King Kong (1933)|           25|              3.64|\n",
            "|1982|It Came from Holl...|            1|               2.0|\n",
            "|1978|Buddy Holly Story...|            5|               3.6|\n",
            "|1999| Galaxy Quest (1999)|           75|              3.58|\n",
            "|2000| Chuck & Buck (2000)|            2|               2.5|\n",
            "|1988|Hellbound: Hellra...|            9|3.2777777777777777|\n",
            "+----+--------------------+-------------+------------------+\n",
            "only showing top 20 rows\n",
            "\n"
          ]
        }
      ]
    },
    {
      "cell_type": "code",
      "source": [
        "q4Result = q4Result.withColumnRenamed(\"title\",\"Movie_name\")\n",
        "q4Result = q4Result.withColumnRenamed(\"count(rating)\",\"Num_rating\")\n",
        "q4Result = q4Result.withColumnRenamed(\"avg(rating)\",\"Average_rating\")"
      ],
      "metadata": {
        "id": "HBlO4o0mq8Lh"
      },
      "execution_count": 46,
      "outputs": []
    },
    {
      "cell_type": "code",
      "source": [
        "q4Result.show(100)"
      ],
      "metadata": {
        "colab": {
          "base_uri": "https://localhost:8080/"
        },
        "id": "imj0namarUBx",
        "outputId": "0288daef-47d0-496b-c1a8-44ec38c3fc02"
      },
      "execution_count": 47,
      "outputs": [
        {
          "output_type": "stream",
          "name": "stdout",
          "text": [
            "+----+--------------------+----------+------------------+\n",
            "|Year|          Movie_name|Num_rating|    Average_rating|\n",
            "+----+--------------------+----------+------------------+\n",
            "|1995|Awfully Big Adven...|         1|               5.0|\n",
            "|1994|Hudsucker Proxy, ...|        40|              3.55|\n",
            "|1994|What Happened Was...|         1|               5.0|\n",
            "|1996|High School High ...|         6|               2.0|\n",
            "|1987|Dirty Dancing (1987)|        42| 3.369047619047619|\n",
            "|1983|   Local Hero (1983)|         9| 4.055555555555555|\n",
            "|1992|     Candyman (1992)|        11|               2.5|\n",
            "|1997|Men in Black (a.k...|       165| 3.487878787878788|\n",
            "|1997|        Spawn (1997)|        26|2.6346153846153846|\n",
            "|1997|The Devil's Advoc...|        51| 3.411764705882353|\n",
            "|1997|  Chinese Box (1997)|         2|              3.25|\n",
            "|1985|Out of Africa (1985)|        15|3.6666666666666665|\n",
            "|1984|Children of the C...|        11|2.4545454545454546|\n",
            "|1991|American Tail: Fi...|        10|               2.7|\n",
            "|1933|    King Kong (1933)|        25|              3.64|\n",
            "|1982|It Came from Holl...|         1|               2.0|\n",
            "|1978|Buddy Holly Story...|         5|               3.6|\n",
            "|1999| Galaxy Quest (1999)|        75|              3.58|\n",
            "|2000| Chuck & Buck (2000)|         2|               2.5|\n",
            "|1988|Hellbound: Hellra...|         9|3.2777777777777777|\n",
            "|2000|Dungeons & Dragon...|        12|1.8333333333333333|\n",
            "|1988|Land Before Time,...|         9|3.3333333333333335|\n",
            "|2001| Extreme Days (2001)|         1|               2.0|\n",
            "|2001|     Out Cold (2001)|         5|               3.0|\n",
            "|1971|Big Doll House, T...|         1|               2.5|\n",
            "|1957| 3:10 to Yuma (1957)|         1|               4.0|\n",
            "|2002|        I Spy (2002)|         7|               2.5|\n",
            "|2002|Marooned in Iraq ...|         1|               3.0|\n",
            "|1956| High Society (1956)|         2|               3.0|\n",
            "|1991|Mississippi Masal...|         3|               3.5|\n",
            "|2003|American Splendor...|        18|3.8333333333333335|\n",
            "|1963|Atragon (Kaitei G...|         1|               3.5|\n",
            "|1979|           10 (1979)|         4|             3.375|\n",
            "|1985|Just One of the G...|         4|              2.75|\n",
            "|1941|Shadow of the Thi...|         1|               3.5|\n",
            "|2003|Tale of Two Siste...|         4|              3.25|\n",
            "|1959|Bucket Of Blood, ...|         1|               2.5|\n",
            "|2004|Before Sunset (2004)|        15|               3.7|\n",
            "|1994|   Chase, The (1994)|         1|               2.0|\n",
            "|1997|Knockin' on Heave...|         4|              4.25|\n",
            "|2005|Just Like Heaven ...|         8|            2.6875|\n",
            "|2006|Ice Age 2: The Me...|        23| 3.217391304347826|\n",
            "|2007|Across the Univer...|        11| 4.045454545454546|\n",
            "|2009|     17 Again (2009)|        10|              3.55|\n",
            "|2009|Bone Man, The (De...|         1|               4.5|\n",
            "|2011|Girl Walks Into a...|         1|               4.5|\n",
            "|2012|Searching for Sug...|         4|              4.25|\n",
            "|2014| Before We Go (2014)|         1|               3.5|\n",
            "|1908|The Electric Hote...|         1|               4.0|\n",
            "|2015|  Suffragette (2015)|         1|               2.5|\n",
            "|2003|     Sky High (2003)|         1|               2.0|\n",
            "|2015|  Moonwalkers (2015)|         1|               2.5|\n",
            "|2007| Genius Party (2007)|         1|               3.0|\n",
            "|2016|The Legend of Tar...|         6|3.0833333333333335|\n",
            "|2016|Underworld: Blood...|         1|               3.0|\n",
            "|2017|The Dark Tower (2...|         1|               3.5|\n",
            "|2017|      Creep 2 (2017)|         1|               1.5|\n",
            "|1995|        Gordy (1995)|         1|               3.0|\n",
            "|1993|       Sliver (1993)|        18|2.6666666666666665|\n",
            "|1996|    Barb Wire (1996)|        20|              2.65|\n",
            "|1972|Godfather, The (1...|       192|         4.2890625|\n",
            "|1943|For Whom the Bell...|         2|              3.75|\n",
            "|1963|Sword in the Ston...|        25|              3.58|\n",
            "|1967|Bonnie and Clyde ...|        35| 4.071428571428571|\n",
            "|1989|   Abyss, The (1989)|        62| 3.475806451612903|\n",
            "|1987|      Tin Men (1987)|         5|               3.0|\n",
            "|1997|That Darn Cat (1997)|         2|              3.25|\n",
            "|1996|        Crash (1996)|        11| 3.090909090909091|\n",
            "|1997|Paradise Road (1997)|         1|               3.5|\n",
            "|1997|      Titanic (1997)|       140| 3.414285714285714|\n",
            "|1992|Prom Night IV: De...|         1|               4.0|\n",
            "|1998|Very Bad Things (...|        16|            3.4375|\n",
            "|1998|Dangerous Beauty ...|         3| 4.166666666666667|\n",
            "|1999|           Go (1999)|        39|3.9615384615384617|\n",
            "|1999|Angela's Ashes (1...|         3|3.3333333333333335|\n",
            "|1951|Place in the Sun,...|         2|               4.5|\n",
            "|1987|Running Man, The ...|        34|3.2205882352941178|\n",
            "|2001|   Monkeybone (2001)|         6|2.0833333333333335|\n",
            "|2001| Mexican, The (2001)|        23| 3.347826086956522|\n",
            "|1960| Elmer Gantry (1960)|         2|               4.0|\n",
            "|1985|Girls Just Want t...|         3|3.3333333333333335|\n",
            "|1982|     Toy, The (1982)|         4|             2.375|\n",
            "|2001|His Secret Life (...|         1|               4.5|\n",
            "|2003|Triplets of Belle...|        22|3.7045454545454546|\n",
            "|1967|Fearless Vampire ...|         3|3.6666666666666665|\n",
            "|2006|Running Scared (2...|         5|               3.3|\n",
            "|2005|Protector, The (a...|         1|               3.0|\n",
            "|2006|Prestige, The (2006)|        90|4.0055555555555555|\n",
            "|2006|It's a Boy Girl T...|         2|               1.0|\n",
            "|2007| Dead Silence (2007)|         2|              3.25|\n",
            "|2007|P.S. I Love You (...|        11| 3.090909090909091|\n",
            "|2008|Hurt Locker, The ...|        34|4.0588235294117645|\n",
            "|2009|          Ink (2009)|         1|               3.5|\n",
            "|2010| Wolfman, The (2010)|         2|              2.25|\n",
            "|2011|Friends with Kids...|         3|3.6666666666666665|\n",
            "|2011|      Haywire (2011)|         3|2.8333333333333335|\n",
            "|2012|Comme un chef (2012)|         1|               3.5|\n",
            "|2013|Olympus Has Falle...|         8|             2.875|\n",
            "|2016|   Passengers (2016)|         6|3.6666666666666665|\n",
            "|2018|Game Over, Man! (...|         1|               3.0|\n",
            "+----+--------------------+----------+------------------+\n",
            "only showing top 100 rows\n",
            "\n"
          ]
        }
      ]
    },
    {
      "cell_type": "code",
      "source": [],
      "metadata": {
        "id": "85Kyo_IWrVqR"
      },
      "execution_count": null,
      "outputs": []
    }
  ],
  "metadata": {
    "colab": {
      "provenance": [],
      "authorship_tag": "ABX9TyMONcFV6QAThaVWJ1NyQumP",
      "include_colab_link": true
    },
    "kernelspec": {
      "display_name": "Python 3",
      "name": "python3"
    },
    "language_info": {
      "name": "python"
    }
  },
  "nbformat": 4,
  "nbformat_minor": 0
}