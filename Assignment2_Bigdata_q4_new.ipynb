{
  "cells": [
    {
      "cell_type": "markdown",
      "metadata": {
        "id": "view-in-github",
        "colab_type": "text"
      },
      "source": [
        "<a href=\"https://colab.research.google.com/github/minhnhat232k/Bigdata/blob/main/Assignment2_Bigdata_q4_new.ipynb\" target=\"_parent\"><img src=\"https://colab.research.google.com/assets/colab-badge.svg\" alt=\"Open In Colab\"/></a>"
      ]
    },
    {
      "cell_type": "code",
      "execution_count": 1,
      "metadata": {
        "colab": {
          "base_uri": "https://localhost:8080/"
        },
        "id": "8xGtPNaOZl5t",
        "outputId": "fa65137a-668d-4952-d6be-87a4d5f0274b"
      },
      "outputs": [
        {
          "output_type": "stream",
          "name": "stdout",
          "text": [
            "Collecting pyspark==3.0.1\n",
            "  Downloading pyspark-3.0.1.tar.gz (204.2 MB)\n",
            "\u001b[2K     \u001b[90m━━━━━━━━━━━━━━━━━━━━━━━━━━━━━━━━━━━━━━━\u001b[0m \u001b[32m204.2/204.2 MB\u001b[0m \u001b[31m6.3 MB/s\u001b[0m eta \u001b[36m0:00:00\u001b[0m\n",
            "\u001b[?25h  Preparing metadata (setup.py) ... \u001b[?25l\u001b[?25hdone\n",
            "Collecting py4j==0.10.9 (from pyspark==3.0.1)\n",
            "  Downloading py4j-0.10.9-py2.py3-none-any.whl (198 kB)\n",
            "\u001b[2K     \u001b[90m━━━━━━━━━━━━━━━━━━━━━━━━━━━━━━━━━━━━━━\u001b[0m \u001b[32m198.6/198.6 kB\u001b[0m \u001b[31m18.7 MB/s\u001b[0m eta \u001b[36m0:00:00\u001b[0m\n",
            "\u001b[?25hBuilding wheels for collected packages: pyspark\n",
            "  Building wheel for pyspark (setup.py) ... \u001b[?25l\u001b[?25hdone\n",
            "  Created wheel for pyspark: filename=pyspark-3.0.1-py2.py3-none-any.whl size=204612226 sha256=ec027e081d3f9de6966d19010eb018c4268b3b391e3a492c673dcaa7a0813c98\n",
            "  Stored in directory: /root/.cache/pip/wheels/19/b0/c8/6cb894117070e130fc44352c2a13f15b6c27e440d04a84fb48\n",
            "Successfully built pyspark\n",
            "Installing collected packages: py4j, pyspark\n",
            "  Attempting uninstall: py4j\n",
            "    Found existing installation: py4j 0.10.9.7\n",
            "    Uninstalling py4j-0.10.9.7:\n",
            "      Successfully uninstalled py4j-0.10.9.7\n",
            "Successfully installed py4j-0.10.9 pyspark-3.0.1\n"
          ]
        }
      ],
      "source": [
        "!pip install pyspark==3.0.1"
      ]
    },
    {
      "cell_type": "code",
      "execution_count": 2,
      "metadata": {
        "id": "smJIM3vHZZT6"
      },
      "outputs": [],
      "source": [
        "import pyspark\n",
        "from pyspark.sql import SparkSession\n",
        "from pyspark.sql import functions as f\n",
        "from pyspark.sql.types import IntegerType,BooleanType,DateType"
      ]
    },
    {
      "cell_type": "code",
      "execution_count": 3,
      "metadata": {
        "colab": {
          "base_uri": "https://localhost:8080/"
        },
        "id": "vENjXKxMZhFE",
        "outputId": "d3cdf714-c3a9-4153-99d8-06b90384c85b"
      },
      "outputs": [
        {
          "output_type": "stream",
          "name": "stdout",
          "text": [
            "Mounted at /content/gdrive\n"
          ]
        }
      ],
      "source": [
        "from google.colab import drive\n",
        "drive.mount('/content/gdrive')\n",
        "spark = SparkSession.builder.getOrCreate()\n",
        "ratingsDF = spark.read.options(header='True', inferSchema='True', delimiter=',').csv(\"/content/gdrive/MyDrive/Bigdata-Pyspark-Dataset/Assignment2/ratings_small.csv\")\n",
        "moviesDF = spark.read.options(header='True', inferSchema='True', delimiter=',').csv(\"/content/gdrive/MyDrive/Bigdata-Pyspark-Dataset/Assignment2/movies_small.csv\")"
      ]
    },
    {
      "cell_type": "code",
      "source": [
        "ratingsDF.show(5)\n",
        "moviesDF.show(5)"
      ],
      "metadata": {
        "colab": {
          "base_uri": "https://localhost:8080/"
        },
        "id": "3NNPSImHlUm4",
        "outputId": "84b3df40-808b-4f45-9f90-4d29216b5cd7"
      },
      "execution_count": 5,
      "outputs": [
        {
          "output_type": "stream",
          "name": "stdout",
          "text": [
            "+------+-------+------+---------+\n",
            "|userId|movieId|rating|timestamp|\n",
            "+------+-------+------+---------+\n",
            "|     1|      1|   4.0|964982703|\n",
            "|     1|      3|   4.0|964981247|\n",
            "|     1|      6|   4.0|964982224|\n",
            "|     1|     47|   5.0|964983815|\n",
            "|     1|     50|   5.0|964982931|\n",
            "+------+-------+------+---------+\n",
            "only showing top 5 rows\n",
            "\n",
            "+-------+--------------------+--------------------+\n",
            "|movieId|               title|              genres|\n",
            "+-------+--------------------+--------------------+\n",
            "|      1|    Toy Story (1995)|Adventure|Animati...|\n",
            "|      2|      Jumanji (1995)|Adventure|Childre...|\n",
            "|      3|Grumpier Old Men ...|      Comedy|Romance|\n",
            "|      4|Waiting to Exhale...|Comedy|Drama|Romance|\n",
            "|      5|Father of the Bri...|              Comedy|\n",
            "+-------+--------------------+--------------------+\n",
            "only showing top 5 rows\n",
            "\n"
          ]
        }
      ]
    },
    {
      "cell_type": "code",
      "source": [
        "moviesDF = moviesDF.withColumn(\"Year\", f.col(\"title\").substr(-6, 6))\n",
        "moviesDF = moviesDF.withColumn(\"Year\", f.regexp_replace(f.col(\"Year\"), r\"\\(|\\)\", \"\"))\n",
        "moviesDF.show()"
      ],
      "metadata": {
        "colab": {
          "base_uri": "https://localhost:8080/"
        },
        "id": "4b9ubHYklYhw",
        "outputId": "f53fdcbe-18b3-4137-eae9-ac17d513fc54"
      },
      "execution_count": 6,
      "outputs": [
        {
          "output_type": "stream",
          "name": "stdout",
          "text": [
            "+-------+--------------------+--------------------+----+\n",
            "|movieId|               title|              genres|Year|\n",
            "+-------+--------------------+--------------------+----+\n",
            "|      1|    Toy Story (1995)|Adventure|Animati...|1995|\n",
            "|      2|      Jumanji (1995)|Adventure|Childre...|1995|\n",
            "|      3|Grumpier Old Men ...|      Comedy|Romance|1995|\n",
            "|      4|Waiting to Exhale...|Comedy|Drama|Romance|1995|\n",
            "|      5|Father of the Bri...|              Comedy|1995|\n",
            "|      6|         Heat (1995)|Action|Crime|Thri...|1995|\n",
            "|      7|      Sabrina (1995)|      Comedy|Romance|1995|\n",
            "|      8| Tom and Huck (1995)|  Adventure|Children|1995|\n",
            "|      9| Sudden Death (1995)|              Action|1995|\n",
            "|     10|    GoldenEye (1995)|Action|Adventure|...|1995|\n",
            "|     11|American Presiden...|Comedy|Drama|Romance|1995|\n",
            "|     12|Dracula: Dead and...|       Comedy|Horror|1995|\n",
            "|     13|        Balto (1995)|Adventure|Animati...|1995|\n",
            "|     14|        Nixon (1995)|               Drama|1995|\n",
            "|     15|Cutthroat Island ...|Action|Adventure|...|1995|\n",
            "|     16|       Casino (1995)|         Crime|Drama|1995|\n",
            "|     17|Sense and Sensibi...|       Drama|Romance|1995|\n",
            "|     18|   Four Rooms (1995)|              Comedy|1995|\n",
            "|     19|Ace Ventura: When...|              Comedy|1995|\n",
            "|     20|  Money Train (1995)|Action|Comedy|Cri...|1995|\n",
            "+-------+--------------------+--------------------+----+\n",
            "only showing top 20 rows\n",
            "\n"
          ]
        }
      ]
    },
    {
      "cell_type": "code",
      "source": [
        "ratingsDFLeftJoin = ratingsDF.join(moviesDF, on=[\"movieId\"], how=\"Left\")"
      ],
      "metadata": {
        "id": "3-R3ZaBWlgCA"
      },
      "execution_count": 7,
      "outputs": []
    },
    {
      "cell_type": "code",
      "source": [
        "ratingsDFLeftJoin.sort(\"movieId\").show()"
      ],
      "metadata": {
        "colab": {
          "base_uri": "https://localhost:8080/"
        },
        "id": "oDc9luo9mKj-",
        "outputId": "4ac1bc14-c79c-4640-a015-8773bcf572cb"
      },
      "execution_count": 8,
      "outputs": [
        {
          "output_type": "stream",
          "name": "stdout",
          "text": [
            "+-------+------+------+----------+----------------+--------------------+----+\n",
            "|movieId|userId|rating| timestamp|           title|              genres|Year|\n",
            "+-------+------+------+----------+----------------+--------------------+----+\n",
            "|      1|    57|   5.0| 965796031|Toy Story (1995)|Adventure|Animati...|1995|\n",
            "|      1|   119|   3.5|1435942468|Toy Story (1995)|Adventure|Animati...|1995|\n",
            "|      1|    63|   5.0|1443199669|Toy Story (1995)|Adventure|Animati...|1995|\n",
            "|      1|    54|   3.0| 830247330|Toy Story (1995)|Adventure|Animati...|1995|\n",
            "|      1|    64|   4.0|1161520134|Toy Story (1995)|Adventure|Animati...|1995|\n",
            "|      1|     7|   4.5|1106635946|Toy Story (1995)|Adventure|Animati...|1995|\n",
            "|      1|    66|   4.0|1104643957|Toy Story (1995)|Adventure|Animati...|1995|\n",
            "|      1|    17|   4.5|1305696483|Toy Story (1995)|Adventure|Animati...|1995|\n",
            "|      1|    68|   2.5|1158531426|Toy Story (1995)|Adventure|Animati...|1995|\n",
            "|      1|    19|   4.0| 965705637|Toy Story (1995)|Adventure|Animati...|1995|\n",
            "|      1|    71|   5.0| 864737933|Toy Story (1995)|Adventure|Animati...|1995|\n",
            "|      1|     5|   4.0| 847434962|Toy Story (1995)|Adventure|Animati...|1995|\n",
            "|      1|    73|   4.5|1464196374|Toy Story (1995)|Adventure|Animati...|1995|\n",
            "|      1|    32|   3.0| 856736119|Toy Story (1995)|Adventure|Animati...|1995|\n",
            "|      1|    76|   0.5|1439165548|Toy Story (1995)|Adventure|Animati...|1995|\n",
            "|      1|    40|   5.0| 832058959|Toy Story (1995)|Adventure|Animati...|1995|\n",
            "|      1|    78|   4.0|1252575124|Toy Story (1995)|Adventure|Animati...|1995|\n",
            "|      1|    44|   3.0| 869251860|Toy Story (1995)|Adventure|Animati...|1995|\n",
            "|      1|    82|   2.5|1084467729|Toy Story (1995)|Adventure|Animati...|1995|\n",
            "|      1|    46|   5.0| 834787906|Toy Story (1995)|Adventure|Animati...|1995|\n",
            "+-------+------+------+----------+----------------+--------------------+----+\n",
            "only showing top 20 rows\n",
            "\n"
          ]
        }
      ]
    },
    {
      "cell_type": "code",
      "source": [
        "ratingsDFResult = ratingsDFLeftJoin.groupBy(\"movieId\").agg(f.count(\"rating\"))\n",
        "ratingsDFResult.show(5)"
      ],
      "metadata": {
        "colab": {
          "base_uri": "https://localhost:8080/"
        },
        "id": "I2L7aNJXmMEy",
        "outputId": "f62beba2-c314-4409-82b5-e8cf1a8ea63e"
      },
      "execution_count": 9,
      "outputs": [
        {
          "output_type": "stream",
          "name": "stdout",
          "text": [
            "+-------+-------------+\n",
            "|movieId|count(rating)|\n",
            "+-------+-------------+\n",
            "|   1580|          165|\n",
            "|   2366|           25|\n",
            "|   3175|           75|\n",
            "|   1088|           42|\n",
            "|  32460|            4|\n",
            "+-------+-------------+\n",
            "only showing top 5 rows\n",
            "\n"
          ]
        }
      ]
    },
    {
      "cell_type": "code",
      "source": [
        "ratingsDFResultAvgRating = ratingsDFLeftJoin.groupBy(\"movieId\").agg(f.avg(\"rating\"))\n",
        "ratingsDFResultAvgRating.show(5)"
      ],
      "metadata": {
        "colab": {
          "base_uri": "https://localhost:8080/"
        },
        "id": "mXyt2Kk2o4bu",
        "outputId": "93a55c34-920b-4a13-ec5e-fb7703a23539"
      },
      "execution_count": 10,
      "outputs": [
        {
          "output_type": "stream",
          "name": "stdout",
          "text": [
            "+-------+-----------------+\n",
            "|movieId|      avg(rating)|\n",
            "+-------+-----------------+\n",
            "|   1580|3.487878787878788|\n",
            "|   2366|             3.64|\n",
            "|   3175|             3.58|\n",
            "|   1088|3.369047619047619|\n",
            "|  32460|             4.25|\n",
            "+-------+-----------------+\n",
            "only showing top 5 rows\n",
            "\n"
          ]
        }
      ]
    },
    {
      "cell_type": "code",
      "source": [
        "q4Result = ratingsDFResult.join(ratingsDFResultAvgRating, on=[\"movieId\"], how=\"inner\")\n",
        "q4Result.show(5)"
      ],
      "metadata": {
        "colab": {
          "base_uri": "https://localhost:8080/"
        },
        "id": "Bcx14qZ7mmqS",
        "outputId": "0a2794cc-98bc-4d1a-fa1f-a20772c768d3"
      },
      "execution_count": 11,
      "outputs": [
        {
          "output_type": "stream",
          "name": "stdout",
          "text": [
            "+-------+-------------+-----------------+\n",
            "|movieId|count(rating)|      avg(rating)|\n",
            "+-------+-------------+-----------------+\n",
            "|    148|            1|              5.0|\n",
            "|    471|           40|             3.55|\n",
            "|    496|            1|              5.0|\n",
            "|    833|            6|              2.0|\n",
            "|   1088|           42|3.369047619047619|\n",
            "+-------+-------------+-----------------+\n",
            "only showing top 5 rows\n",
            "\n"
          ]
        }
      ]
    },
    {
      "cell_type": "code",
      "source": [
        "q4Result = q4Result.join(moviesDF, on=[\"movieId\"], how=\"left\")\n",
        "q4Result.show(20)"
      ],
      "metadata": {
        "colab": {
          "base_uri": "https://localhost:8080/"
        },
        "id": "Q7k6YM2yqaDR",
        "outputId": "28489de7-f8b8-4d07-c88e-d499343f1094"
      },
      "execution_count": 12,
      "outputs": [
        {
          "output_type": "stream",
          "name": "stdout",
          "text": [
            "+-------+-------------+------------------+--------------------+--------------------+----+\n",
            "|movieId|count(rating)|       avg(rating)|               title|              genres|Year|\n",
            "+-------+-------------+------------------+--------------------+--------------------+----+\n",
            "|    148|            1|               5.0|Awfully Big Adven...|               Drama|1995|\n",
            "|    471|           40|              3.55|Hudsucker Proxy, ...|              Comedy|1994|\n",
            "|    496|            1|               5.0|What Happened Was...|Comedy|Drama|Roma...|1994|\n",
            "|    833|            6|               2.0|High School High ...|              Comedy|1996|\n",
            "|   1088|           42| 3.369047619047619|Dirty Dancing (1987)|Drama|Musical|Rom...|1987|\n",
            "|   1238|            9| 4.055555555555555|   Local Hero (1983)|              Comedy|1983|\n",
            "|   1342|           11|               2.5|     Candyman (1992)|     Horror|Thriller|1992|\n",
            "|   1580|          165| 3.487878787878788|Men in Black (a.k...|Action|Comedy|Sci-Fi|1997|\n",
            "|   1591|           26|2.6346153846153846|        Spawn (1997)|Action|Adventure|...|1997|\n",
            "|   1645|           51| 3.411764705882353|The Devil's Advoc...|Drama|Mystery|Thr...|1997|\n",
            "|   1829|            2|              3.25|  Chinese Box (1997)|       Drama|Romance|1997|\n",
            "|   1959|           15|3.6666666666666665|Out of Africa (1985)|       Drama|Romance|1985|\n",
            "|   2122|           11|2.4545454545454546|Children of the C...|     Horror|Thriller|1984|\n",
            "|   2142|           10|               2.7|American Tail: Fi...|Adventure|Animati...|1991|\n",
            "|   2366|           25|              3.64|    King Kong (1933)|Action|Adventure|...|1933|\n",
            "|   2659|            1|               2.0|It Came from Holl...|  Comedy|Documentary|1982|\n",
            "|   2866|            5|               3.6|Buddy Holly Story...|               Drama|1978|\n",
            "|   3175|           75|              3.58| Galaxy Quest (1999)|Adventure|Comedy|...|1999|\n",
            "|   3794|            2|               2.5| Chuck & Buck (2000)|        Comedy|Drama|2000|\n",
            "|   3918|            9|3.2777777777777777|Hellbound: Hellra...|              Horror|1988|\n",
            "+-------+-------------+------------------+--------------------+--------------------+----+\n",
            "only showing top 20 rows\n",
            "\n"
          ]
        }
      ]
    },
    {
      "cell_type": "code",
      "source": [
        "q4Result = q4Result.select(\"Year\", \"title\", \"count(rating)\", \"avg(rating)\")"
      ],
      "metadata": {
        "id": "y6usThN7qmk4"
      },
      "execution_count": 13,
      "outputs": []
    },
    {
      "cell_type": "code",
      "source": [
        "q4Result.show(20)"
      ],
      "metadata": {
        "colab": {
          "base_uri": "https://localhost:8080/"
        },
        "id": "sqbWIhmjq6zB",
        "outputId": "7b82d578-670b-427a-8363-41b265e1b4a0"
      },
      "execution_count": 14,
      "outputs": [
        {
          "output_type": "stream",
          "name": "stdout",
          "text": [
            "+----+--------------------+-------------+------------------+\n",
            "|Year|               title|count(rating)|       avg(rating)|\n",
            "+----+--------------------+-------------+------------------+\n",
            "|1995|Awfully Big Adven...|            1|               5.0|\n",
            "|1994|Hudsucker Proxy, ...|           40|              3.55|\n",
            "|1994|What Happened Was...|            1|               5.0|\n",
            "|1996|High School High ...|            6|               2.0|\n",
            "|1987|Dirty Dancing (1987)|           42| 3.369047619047619|\n",
            "|1983|   Local Hero (1983)|            9| 4.055555555555555|\n",
            "|1992|     Candyman (1992)|           11|               2.5|\n",
            "|1997|Men in Black (a.k...|          165| 3.487878787878788|\n",
            "|1997|        Spawn (1997)|           26|2.6346153846153846|\n",
            "|1997|The Devil's Advoc...|           51| 3.411764705882353|\n",
            "|1997|  Chinese Box (1997)|            2|              3.25|\n",
            "|1985|Out of Africa (1985)|           15|3.6666666666666665|\n",
            "|1984|Children of the C...|           11|2.4545454545454546|\n",
            "|1991|American Tail: Fi...|           10|               2.7|\n",
            "|1933|    King Kong (1933)|           25|              3.64|\n",
            "|1982|It Came from Holl...|            1|               2.0|\n",
            "|1978|Buddy Holly Story...|            5|               3.6|\n",
            "|1999| Galaxy Quest (1999)|           75|              3.58|\n",
            "|2000| Chuck & Buck (2000)|            2|               2.5|\n",
            "|1988|Hellbound: Hellra...|            9|3.2777777777777777|\n",
            "+----+--------------------+-------------+------------------+\n",
            "only showing top 20 rows\n",
            "\n"
          ]
        }
      ]
    },
    {
      "cell_type": "code",
      "source": [
        "q4Result = q4Result.withColumnRenamed(\"title\",\"Movie_name\")\n",
        "q4Result = q4Result.withColumnRenamed(\"count(rating)\",\"Num_rating\")\n",
        "q4Result = q4Result.withColumnRenamed(\"avg(rating)\",\"Average_rating\")"
      ],
      "metadata": {
        "id": "HBlO4o0mq8Lh"
      },
      "execution_count": 15,
      "outputs": []
    },
    {
      "cell_type": "code",
      "source": [
        "q4Result.orderBy('year', 'Movie_name').show(100)"
      ],
      "metadata": {
        "colab": {
          "base_uri": "https://localhost:8080/"
        },
        "id": "imj0namarUBx",
        "outputId": "fa82a1a0-6fe5-4c74-926f-d1fc7fe1a6ac"
      },
      "execution_count": 16,
      "outputs": [
        {
          "output_type": "stream",
          "name": "stdout",
          "text": [
            "+----+--------------------+----------+------------------+\n",
            "|Year|          Movie_name|Num_rating|    Average_rating|\n",
            "+----+--------------------+----------+------------------+\n",
            "|1902|Trip to the Moon,...|         5|               3.5|\n",
            "|1903|The Great Train R...|         2|               2.5|\n",
            "|1908|The Electric Hote...|         1|               4.0|\n",
            "|1915|Birth of a Nation...|         1|               2.0|\n",
            "|1916|20,000 Leagues Un...|         2|              3.75|\n",
            "|1916|Intolerance: Love...|         1|               3.5|\n",
            "|1916|    Rink, The (1916)|         1|               3.5|\n",
            "|1916|   Snow White (1916)|         1|               3.5|\n",
            "|1917|Immigrant, The (1...|         1|               4.5|\n",
            "|1919|Daddy Long Legs (...|         1|               2.0|\n",
            "|1920|Cabinet of Dr. Ca...|         7| 3.857142857142857|\n",
            "|1920|     One Week (1920)|         1|               3.5|\n",
            "|1921|     Kid, The (1921)|         5|               4.1|\n",
            "|1922|Nosferatu (Nosfer...|        16|           3.53125|\n",
            "|1923|Hunchback of Notr...|         1|               3.0|\n",
            "|1923|Our Hospitality (...|         2|              3.25|\n",
            "|1923| Safety Last! (1923)|         2|               4.0|\n",
            "|1923|Woman of Paris, A...|         2|               4.0|\n",
            "|1924|Aelita: The Queen...|         1|               4.5|\n",
            "|1924|        Greed (1924)|         1|               4.0|\n",
            "|1924|Navigator, The (1...|         1|               3.5|\n",
            "|1924| Sherlock Jr. (1924)|         2|               3.0|\n",
            "|1924|Thief of Bagdad, ...|         1|               3.5|\n",
            "|1925|Battleship Potemk...|        10|              3.65|\n",
            "|1925|Ben-Hur: A Tale o...|         1|               3.0|\n",
            "|1925|Freshman, The (1925)|         1|               4.0|\n",
            "|1925|Gold Rush, The (1...|         7| 4.071428571428571|\n",
            "|1926|   By the Law (1926)|         1|               3.5|\n",
            "|1926|        Faust (1926)|         1|               4.0|\n",
            "|1926| General, The (1926)|         9|               4.0|\n",
            "|1926|Secrets of a Soul...|         1|               4.5|\n",
            "|1926|Son of the Sheik,...|         1|               4.0|\n",
            "|1927|Cat and the Canar...|         1|               3.0|\n",
            "|1927|      College (1927)|         1|               3.5|\n",
            "|1927|Jazz Singer, The ...|         1|               4.0|\n",
            "|1927|Lodger: A Story o...|         3|               3.5|\n",
            "|1927|   Metropolis (1927)|        21| 3.857142857142857|\n",
            "|1927|    Ring, The (1927)|         1|               1.0|\n",
            "|1927|Sunrise: A Song o...|         1|               4.0|\n",
            "|1928|  Circus, The (1928)|         4|             4.125|\n",
            "|1928|Passion of Joan o...|         5|               3.9|\n",
            "|1928|Steamboat Bill, J...|         1|               4.5|\n",
            "|1928|Steamboat Willie ...|         3|2.3333333333333335|\n",
            "|1929|Andalusian Dog, A...|         4|               4.5|\n",
            "|1929|Broadway Melody, ...|         1|               3.0|\n",
            "|1929|Cocoanuts, The (1...|         1|               3.5|\n",
            "|1929|Man with the Movi...|         3|3.3333333333333335|\n",
            "|1930|All Quiet on the ...|        10|              4.35|\n",
            "|1930|Animal Crackers (...|         4|             4.125|\n",
            "|1930|Anna Christie (1930)|         1|               3.5|\n",
            "|1930|Blue Angel, The (...|         1|               4.0|\n",
            "|1930|Divorcee, The (1930)|         1|               4.0|\n",
            "|1931|     Cimarron (1931)|         1|               3.5|\n",
            "|1931|  City Lights (1931)|        13|3.8461538461538463|\n",
            "|1931|Dr. Jekyll and Mr...|         2|               2.0|\n",
            "|1931|      Dracula (1931)|         9|3.3333333333333335|\n",
            "|1931| Frankenstein (1931)|        11| 3.909090909090909|\n",
            "|1931|Front Page, The (...|         1|               3.5|\n",
            "|1931|Girls About Town ...|         1|               5.0|\n",
            "|1931|     Iron Man (1931)|         1|               0.5|\n",
            "|1931|Little Caesar (1931)|         1|               4.0|\n",
            "|1931|            M (1931)|        15|3.7333333333333334|\n",
            "|1931|Maidens in Unifor...|         1|               3.5|\n",
            "|1931|Maltese Falcon, T...|        17|3.6176470588235294|\n",
            "|1931|Public Enemy, The...|         2|              4.25|\n",
            "|1931|À nous la liberté...|         1|               1.0|\n",
            "|1932|Boudu Saved From ...|         1|               0.5|\n",
            "|1932|Farewell to Arms,...|         1|               3.0|\n",
            "|1932|       Freaks (1932)|         9|3.1666666666666665|\n",
            "|1932|  Grand Hotel (1932)|         2|               4.0|\n",
            "|1932|Horse Feathers (1...|         2|               4.0|\n",
            "|1932|I Am a Fugitive f...|         3|3.6666666666666665|\n",
            "|1932|   Mummy, The (1932)|         3|3.3333333333333335|\n",
            "|1932|     Scarface (1932)|         2|              3.75|\n",
            "|1932|Trouble in Paradi...|         1|               3.5|\n",
            "|1933|  42nd Street (1933)|         3|               4.0|\n",
            "|1933|Alice in Wonderla...|         1|               4.0|\n",
            "|1933|Dinner at Eight (...|         1|               3.5|\n",
            "|1933|    Duck Soup (1933)|        23|3.8043478260869565|\n",
            "|1933|Flying Down to Ri...|         1|               3.0|\n",
            "|1933|Gold Diggers of 1...|         1|               3.5|\n",
            "|1933|Invisible Man, Th...|         2|               3.5|\n",
            "|1933|    King Kong (1933)|        25|              3.64|\n",
            "|1933| Little Women (1933)|         5|               4.0|\n",
            "|1933|Sons of the Deser...|         1|               3.0|\n",
            "|1933|Testament of Dr. ...|         1|               4.0|\n",
            "|1933|Zero de conduite ...|         1|               4.0|\n",
            "|1934| Atalante, L' (1934)|         1|               4.5|\n",
            "|1934|Babes in Toyland ...|         1|               5.0|\n",
            "|1934|     Chapayev (1934)|         1|               4.5|\n",
            "|1934|Gay Divorcee, The...|         2|               3.5|\n",
            "|1934|It Happened One N...|        14| 4.321428571428571|\n",
            "|1934|Man Who Knew Too ...|         3|3.6666666666666665|\n",
            "|1934|  Man of Aran (1934)|         1|               3.5|\n",
            "|1934|Of Human Bondage ...|         1|               3.5|\n",
            "|1934|Thin Man, The (1934)|         7| 3.857142857142857|\n",
            "|1934|Triumph of the Wi...|         3| 4.166666666666667|\n",
            "|1935|39 Steps, The (1935)|        11| 4.045454545454546|\n",
            "|1935|  Alice Adams (1935)|         1|               3.5|\n",
            "|1935|Anna Karenina (1935)|         2|               3.5|\n",
            "+----+--------------------+----------+------------------+\n",
            "only showing top 100 rows\n",
            "\n"
          ]
        }
      ]
    },
    {
      "cell_type": "code",
      "source": [],
      "metadata": {
        "id": "85Kyo_IWrVqR"
      },
      "execution_count": null,
      "outputs": []
    }
  ],
  "metadata": {
    "colab": {
      "provenance": [],
      "authorship_tag": "ABX9TyOwqCbSsB0Nmpzs7MfpZCd8",
      "include_colab_link": true
    },
    "kernelspec": {
      "display_name": "Python 3",
      "name": "python3"
    },
    "language_info": {
      "name": "python"
    }
  },
  "nbformat": 4,
  "nbformat_minor": 0
}