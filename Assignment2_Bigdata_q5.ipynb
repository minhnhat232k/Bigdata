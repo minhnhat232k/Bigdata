{
  "nbformat": 4,
  "nbformat_minor": 0,
  "metadata": {
    "colab": {
      "provenance": [],
      "authorship_tag": "ABX9TyM1zTOjf7QZg8GhX+9ZYH9O",
      "include_colab_link": true
    },
    "kernelspec": {
      "name": "python3",
      "display_name": "Python 3"
    },
    "language_info": {
      "name": "python"
    }
  },
  "cells": [
    {
      "cell_type": "markdown",
      "metadata": {
        "id": "view-in-github",
        "colab_type": "text"
      },
      "source": [
        "<a href=\"https://colab.research.google.com/github/minhnhat232k/Bigdata/blob/main/Assignment2_Bigdata_q5.ipynb\" target=\"_parent\"><img src=\"https://colab.research.google.com/assets/colab-badge.svg\" alt=\"Open In Colab\"/></a>"
      ]
    },
    {
      "cell_type": "code",
      "execution_count": 1,
      "metadata": {
        "colab": {
          "base_uri": "https://localhost:8080/"
        },
        "id": "mtdf4SclpbYV",
        "outputId": "6b9af28a-46b0-444b-c800-907d18daa152"
      },
      "outputs": [
        {
          "output_type": "stream",
          "name": "stdout",
          "text": [
            "Collecting pyspark==3.0.1\n",
            "  Downloading pyspark-3.0.1.tar.gz (204.2 MB)\n",
            "\u001b[2K     \u001b[90m━━━━━━━━━━━━━━━━━━━━━━━━━━━━━━━━━━━━━━━\u001b[0m \u001b[32m204.2/204.2 MB\u001b[0m \u001b[31m3.3 MB/s\u001b[0m eta \u001b[36m0:00:00\u001b[0m\n",
            "\u001b[?25h  Preparing metadata (setup.py) ... \u001b[?25l\u001b[?25hdone\n",
            "Collecting py4j==0.10.9 (from pyspark==3.0.1)\n",
            "  Downloading py4j-0.10.9-py2.py3-none-any.whl (198 kB)\n",
            "\u001b[2K     \u001b[90m━━━━━━━━━━━━━━━━━━━━━━━━━━━━━━━━━━━━━━\u001b[0m \u001b[32m198.6/198.6 kB\u001b[0m \u001b[31m11.0 MB/s\u001b[0m eta \u001b[36m0:00:00\u001b[0m\n",
            "\u001b[?25hBuilding wheels for collected packages: pyspark\n",
            "  Building wheel for pyspark (setup.py) ... \u001b[?25l\u001b[?25hdone\n",
            "  Created wheel for pyspark: filename=pyspark-3.0.1-py2.py3-none-any.whl size=204612226 sha256=19f8aca8fc180e1405a263c8f6bb883a6524cbdafeaf276c8aaf558d50c4ab43\n",
            "  Stored in directory: /root/.cache/pip/wheels/19/b0/c8/6cb894117070e130fc44352c2a13f15b6c27e440d04a84fb48\n",
            "Successfully built pyspark\n",
            "Installing collected packages: py4j, pyspark\n",
            "  Attempting uninstall: py4j\n",
            "    Found existing installation: py4j 0.10.9.7\n",
            "    Uninstalling py4j-0.10.9.7:\n",
            "      Successfully uninstalled py4j-0.10.9.7\n",
            "Successfully installed py4j-0.10.9 pyspark-3.0.1\n"
          ]
        }
      ],
      "source": [
        "!pip install pyspark==3.0.1"
      ]
    },
    {
      "cell_type": "code",
      "source": [
        "import pyspark\n",
        "from pyspark.sql import SparkSession\n",
        "from pyspark.sql import functions as f\n",
        "from pyspark.sql.types import IntegerType,BooleanType,DateType"
      ],
      "metadata": {
        "id": "issqCuGopcuI"
      },
      "execution_count": 18,
      "outputs": []
    },
    {
      "cell_type": "code",
      "source": [
        "from google.colab import drive\n",
        "drive.mount('/content/gdrive')\n",
        "spark = SparkSession.builder.getOrCreate()\n",
        "ratingsDF = spark.read.options(header='True', inferSchema='True', delimiter=',').csv(\"/content/gdrive/MyDrive/Bigdata-Pyspark-Dataset/Assignment2/ratings_small.csv\")\n",
        "moviesDF = spark.read.options(header='True', inferSchema='True', delimiter=',').csv(\"/content/gdrive/MyDrive/Bigdata-Pyspark-Dataset/Assignment2/movies_small.csv\")\n"
      ],
      "metadata": {
        "colab": {
          "base_uri": "https://localhost:8080/"
        },
        "id": "IV3gS1H7pfLv",
        "outputId": "76ad329e-d68e-4dfc-9a9d-fb6032aeff0d"
      },
      "execution_count": 19,
      "outputs": [
        {
          "output_type": "stream",
          "name": "stdout",
          "text": [
            "Drive already mounted at /content/gdrive; to attempt to forcibly remount, call drive.mount(\"/content/gdrive\", force_remount=True).\n"
          ]
        }
      ]
    },
    {
      "cell_type": "code",
      "source": [
        "moviesDF = moviesDF.withColumn(\"genres_array\", f.split(\"genres\", \"\\|\")) \\\n",
        ".withColumn('last_genres', f.element_at(\"genres_array\", -1))\n"
      ],
      "metadata": {
        "id": "UoyqSHDdpgw-"
      },
      "execution_count": 20,
      "outputs": []
    },
    {
      "cell_type": "code",
      "source": [
        "user_genre_ratings = ratingsDF.join(moviesDF, on='movieId', how='left') \\\n",
        ".groupBy('userId', 'last_genres') \\\n",
        ".agg(f.avg('rating').alias('avg_rating'))"
      ],
      "metadata": {
        "id": "YMOmdAoMph8u"
      },
      "execution_count": 21,
      "outputs": []
    },
    {
      "cell_type": "code",
      "source": [
        "from pyspark.sql.window import Window\n",
        "from pyspark.sql.functions import col,to_date,date_format\n",
        "\n",
        "window_spec = Window.partitionBy('userId').orderBy(col('avg_rating').desc())\n",
        "\n",
        "user_top_genre = user_genre_ratings.withColumn('rank', f.row_number().over(window_spec)) \\\n",
        ".where(col('rank') == 1) \\\n",
        ".select('userId', 'last_genres')\n",
        "\n",
        "window_spec_movies = Window.partitionBy('last_genres').orderBy(col('avg_rating').desc())\n",
        "\n",
        "result_q5 = user_top_genre.join(moviesDF, on='last_genres', how='left') \\\n",
        "  .join(user_genre_ratings, on=['userId', 'last_genres'], how='left') \\\n",
        "  .withColumn('rank',f.row_number().over(window_spec_movies)) \\\n",
        "  .where(col('rank') <= 5) \\\n",
        "  .groupBy('userId') \\\n",
        "  .agg(f.max('last_genres').alias('Highest_rated_genre_name'), \\\n",
        "  f.collect_list('title').alias('Top_5_unrated_movies_with_highest_rating'))\n"
      ],
      "metadata": {
        "id": "Sz-mAsZYqBge"
      },
      "execution_count": 22,
      "outputs": []
    },
    {
      "cell_type": "code",
      "source": [
        "result_q5 = result_q5.orderBy('userId')\n",
        "result_q5.show(100, truncate=False)\n"
      ],
      "metadata": {
        "colab": {
          "base_uri": "https://localhost:8080/"
        },
        "id": "f2zZNRWWqIem",
        "outputId": "5fc4b749-209b-4b0a-f63c-4758d92be670"
      },
      "execution_count": 23,
      "outputs": [
        {
          "output_type": "stream",
          "name": "stdout",
          "text": [
            "+------+------------------------+--------------------------------------------------------------------------------------------------------------------------------------------------------------------------------------------------------------+\n",
            "|userId|Highest_rated_genre_name|Top_5_unrated_movies_with_highest_rating                                                                                                                                                                      |\n",
            "+------+------------------------+--------------------------------------------------------------------------------------------------------------------------------------------------------------------------------------------------------------+\n",
            "|9     |Adventure               |[The Legend of Tarzan (2016), Neon Bull (2015), Return of the One-Armed Swordsman (1969), God Loves Caviar (2012), Last Knights (2015)]                                                                       |\n",
            "|30    |War                     |[Darkest Hour (2017), Dunkirk (2017), War Machine (2017), Embassy (2013), Band of Brothers (2001)]                                                                                                            |\n",
            "|43    |Crime                   |[Sherlock - A Study in Pink (2010), Rick and Morty: State of Georgia Vs. Denver Fenton Allen (2016), Fugitives (1986), Masterminds (2016), Precious Cargo (2016)]                                             |\n",
            "|59    |Film-Noir               |[Bullet to the Head (2012), Limits of Control, The (2009), Born to Kill (1947), Call Northside 777 (1948), Trou, Le (Hole, The) (Night Watch, The) (1960)]                                                    |\n",
            "|107   |Drama                   |[Flint (2017), Silver Spoon (2014), anohana: The Flower We Saw That Day - The Movie (2013), Liquid Truth (2017), John From (2015)]                                                                            |\n",
            "|142   |Musical                 |[Strange Magic (2015), Into the Woods (2014), Volga - Volga (1938), 20,000 Days on Earth (2014), Get on Up (2014)]                                                                                            |\n",
            "|210   |Animation               |[Bungo Stray Dogs: Dead Apple (2018), Love Live! The School Idol Movie (2015), Bunny (1998), Fireworks, Should We See It from the Side or the Bottom? (2017), LEGO DC Super Hero Girls: Brain Drain (2017)]   |\n",
            "|251   |Documentary             |[Jon Stewart Has Left the Building (2015), Hommage à Zgougou (et salut à Sabine Mamou) (2002), Spiral (2018), Won't You Be My Neighbor? (2018), Making a Murderer (2015)]                                     |\n",
            "|261   |Romance                 |[Tilt (2011), Mamma Mia: Here We Go Again! (2018), Elsa & Fred (2005), Phantom Thread (2017), Emerald Green (2016)]                                                                                           |\n",
            "|268   |Western                 |[The Dark Tower (2017), The Beguiled (2017), The Magnificent Seven (2016), Texas - Doc Snyder hält die Welt in Atem (1993), The Ridiculous 6 (2015)]                                                          |\n",
            "|302   |Comedy                  |[Andrew Dice Clay: Dice Rules (1991), Jeff Ross Roasts the Border (2017), Tag (2018), Blockers (2018), Game Over, Man! (2018)]                                                                                |\n",
            "|337   |Action                  |[Geostorm (2017), Vigilante Diaries (2016), Marauders (2016), Jason Bourne (2016), The Crew (2016)]                                                                                                           |\n",
            "|364   |Fantasy                 |[No Game No Life: Zero (2017), Black Butler: Book of the Atlantic (2017), The Man Who Killed Don Quixote (2018), Fullmetal Alchemist 2018 (2017), Tomb Raider (2018)]                                         |\n",
            "|496   |Thriller                |[The Darkest Minds (2018), SuperFly (2018), Mission: Impossible - Fallout (2018), Jurassic World: Fallen Kingdom (2018), I Kill Giants (2018)]                                                                |\n",
            "|532   |Mystery                 |[Murder on the Orient Express (2017), Buster's Mal Heart (2017), Kizumonogatari III: Cold Blood (2017), Kizumonogatari II: Passionate Blood (2016), Kizumonogatari Part 1: Tekketsu (2016)]                   |\n",
            "|537   |Horror                  |[Game Night (2018), Creep 2 (2017), Mayhem (2017), Themroc (1973), It (2017)]                                                                                                                                 |\n",
            "|573   |Children                |[Incredibles 2 (2018), The Tale of the Bunny Picnic (1986), Jumanji: Welcome to the Jungle (2017), Coco (2017), On the Trail of the Bremen Town Musicians (1973)]                                             |\n",
            "|586   |(no genres listed)      |[A Christmas Story Live! (2017), Serving in Silence: The Margarethe Cammermeyer Story (1995), Too Funny to Fail: The Life and Death of The Dana Carvey Show (2017), Black Mirror, The Putin Interviews (2017)]|\n",
            "|598   |Sci-Fi                  |[Gintama: The Movie (2010), Gintama (2017), Iron Soldier (2010), Ant-Man and the Wasp (2018), Sorry to Bother You (2018)]                                                                                     |\n",
            "|607   |IMAX                    |[Star Wars: Episode VII - The Force Awakens (2015), Stalingrad (2013), Edge of Tomorrow (2014), Maleficent (2014), Godzilla (2014)]                                                                           |\n",
            "+------+------------------------+--------------------------------------------------------------------------------------------------------------------------------------------------------------------------------------------------------------+\n",
            "\n"
          ]
        }
      ]
    },
    {
      "cell_type": "code",
      "source": [],
      "metadata": {
        "id": "15f8Xi48qoFw"
      },
      "execution_count": null,
      "outputs": []
    }
  ]
}